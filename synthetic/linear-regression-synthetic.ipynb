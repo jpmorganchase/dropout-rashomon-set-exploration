{
 "cells": [
  {
   "cell_type": "code",
   "execution_count": null,
   "id": "a6df5d88",
   "metadata": {},
   "outputs": [],
   "source": [
    "import numpy as np\n",
    "import pandas as pd\n",
    "import numpy as np\n",
    "import matplotlib.pyplot as plt\n",
    "import matplotlib\n",
    "import matplotlib.cm as cm\n",
    "import seaborn as sns\n",
    "import pickle\n",
    "from tqdm import tqdm\n",
    "\n",
    "from sklearn.preprocessing import normalize\n",
    "\n",
    "sns.set()\n",
    "sns.set_style('whitegrid')\n",
    "%matplotlib inline\n",
    "\n",
    "import warnings\n",
    "warnings.filterwarnings('ignore')\n",
    "import os\n",
    "os.environ['TF_CPP_MIN_LOG_LEVEL'] = '3' "
   ]
  },
  {
   "cell_type": "code",
   "execution_count": null,
   "id": "6415259e-a9ad-400b-b35f-a16214d59ad8",
   "metadata": {},
   "outputs": [],
   "source": [
    "ntrain = 10000\n",
    "ntest = 2000\n",
    "d = 200\n",
    "wa, wb = 2, 1\n",
    "sigma = 2.0\n",
    "lamb = 1.0\n",
    "# lamb=0.0\n",
    "\n",
    "ndropout = 20000"
   ]
  },
  {
   "cell_type": "code",
   "execution_count": null,
   "id": "f59895e1-932f-4448-91f2-3d3684c1992d",
   "metadata": {},
   "outputs": [],
   "source": [
    "# np.random.seed(42)\n",
    "w = wa*np.random.rand(d, 1)-wb"
   ]
  },
  {
   "cell_type": "code",
   "execution_count": null,
   "id": "5df8113b-f4b0-45b0-a1db-2ffc7adf0a0f",
   "metadata": {},
   "outputs": [],
   "source": [
    "def generate_data(w, sigma, ntrain, ntest):\n",
    "    n = ntrain + ntest\n",
    "    X = np.random.randn(n, len(w))\n",
    "    # X = normalize(X, axis=1, norm='l2')\n",
    "    y = X@w + np.random.randn(n, 1)*sigma\n",
    "    X_train, X_test = X[:ntrain, :], X[ntrain:, :]\n",
    "    y_train, y_test = y[:ntrain], y[ntrain:]\n",
    "    return X_train, X_test, y_train, y_test\n",
    "\n",
    "def lr_sol(X, y, lamb):\n",
    "    return np.linalg.inv(X.transpose()@X + lamb*np.eye(X.shape[1]))@X.transpose()@y\n",
    "\n",
    "def mse_gap(X, y, p, lamb):\n",
    "    # diag = np.sqrt(np.diag(X.transpose()@X)/X.shape[0])\n",
    "    # diag = np.diag(X.transpose()@X)/X.shape[0]\n",
    "    diag = np.diag(np.diag(X.transpose()@X))\n",
    "    w = lr_sol(X, y, lamb)\n",
    "    diag = w.transpose()@diag@w/X.shape[0]\n",
    "    return (2*p*(1-p)*diag/(1+lamb)).reshape(-1)\n",
    "    # return 2*p*(1-p)*((diag@w)**2).mean()/(1+lamb)\n",
    "    # return 2*p*(1-p)*((X.transpose()@y)**2).mean()/(1+lamb)\n",
    "    # return 2*p*(1-p)*(w**2).mean()/(1+lamb)"
   ]
  },
  {
   "cell_type": "code",
   "execution_count": null,
   "id": "80b35ba3-aa5b-4726-9b5c-ba1e4e6ebac9",
   "metadata": {},
   "outputs": [],
   "source": [
    "X_train, X_test, y_train, y_test = generate_data(w, sigma, ntrain, ntest)"
   ]
  },
  {
   "cell_type": "code",
   "execution_count": null,
   "id": "97978714-bd83-4df2-9d6d-e3fd3caebdb5",
   "metadata": {},
   "outputs": [],
   "source": [
    "what = lr_sol(X_train, y_train, lamb)"
   ]
  },
  {
   "cell_type": "code",
   "execution_count": null,
   "id": "98cf4e44-f27e-48d5-b6ff-195189ea1225",
   "metadata": {},
   "outputs": [],
   "source": [
    "print('estimation error on w = {:.4f}'.format(np.mean((w-what)**2)))"
   ]
  },
  {
   "cell_type": "code",
   "execution_count": null,
   "id": "66810d1f-32bf-4867-8d99-fba4d4df88f0",
   "metadata": {},
   "outputs": [],
   "source": [
    "loss_lr_train, loss_lr_test = np.mean((X_train@what-y_train)**2), np.mean((X_test@what-y_test)**2)"
   ]
  },
  {
   "cell_type": "code",
   "execution_count": null,
   "id": "1e6f2c9c-ecd8-4f8a-bdc8-29e87bdbc860",
   "metadata": {},
   "outputs": [],
   "source": [
    "print('Train MSE = {:.4f}, Test MSE = {:.4f}'.format(loss_lr_train, loss_lr_test))"
   ]
  },
  {
   "cell_type": "code",
   "execution_count": null,
   "id": "55f0c6e3-3810-4d28-8e04-60e088a3b2e8",
   "metadata": {},
   "outputs": [],
   "source": [
    "drprate = np.linspace(0.0, 0.5, 11)\n",
    "loss_drp = np.zeros((len(drprate), ndropout))\n",
    "loss_mse_drp = np.zeros((len(drprate), ))\n",
    "\n",
    "for i, drp in tqdm(enumerate(drprate)):\n",
    "    drp_msk = np.random.binomial(size=(d, ndropout), n=1, p=1-drp)\n",
    "    wdrp = what*drp_msk\n",
    "    loss_drp[i, :] = np.mean((X_test@wdrp - y_test)**2, axis=0)\n",
    "    loss_mse_drp[i] = (((1-drp)*X_test@what - y_test)**2).mean()"
   ]
  },
  {
   "cell_type": "code",
   "execution_count": null,
   "id": "0dc4fd90-e48e-4d2a-8d6c-90643d76bf49",
   "metadata": {},
   "outputs": [],
   "source": [
    "fig, ax = plt.subplots(1, 1, figsize=(8, 3))\n",
    "\n",
    "ax.errorbar(x=np.arange(len(drprate)), y=loss_drp.mean(axis=1)-loss_mse_drp, yerr=loss_drp.std(axis=1), \n",
    "            fmt='s', capsize=3, capthick=3, label='Monte Carlo')\n",
    "ax.plot(np.arange(len(drprate)), mse_gap(X_test, y_test, drprate, lamb), label='Theory', \n",
    "        marker='o', linestyle='', markersize=10)\n",
    "\n",
    "ax.set_xticks(np.arange(len(drprate)));\n",
    "ax.set_xticklabels(['{:.2f}'.format(p) for p in drprate]);\n",
    "ax.set_xlabel('Dropout Rate')\n",
    "ax.set_ylabel('MSE');\n",
    "ax.legend(loc='best');"
   ]
  },
  {
   "cell_type": "markdown",
   "id": "47700507-ab49-43c5-a264-b3cdad802a7f",
   "metadata": {},
   "source": [
    "#### Iterate number of dimensions"
   ]
  },
  {
   "cell_type": "code",
   "execution_count": null,
   "id": "65646f25-aee3-45ce-a3a5-86c69d2ff743",
   "metadata": {},
   "outputs": [],
   "source": [
    "ntrain = 10000\n",
    "ntest = 2000\n",
    "# dim = np.arange(10, 210, 10)\n",
    "dim = np.array([10, 50, 100, 200])\n",
    "drprate = np.linspace(0.0, 0.5, 11)\n",
    "wa, wb = 2, 1\n",
    "sigma = 2.0\n",
    "lamb = 1.0\n",
    "# lamb=0.0\n",
    "\n",
    "ndropout = 20000"
   ]
  },
  {
   "cell_type": "code",
   "execution_count": null,
   "id": "e36665a6-0a38-4d8a-b3f0-3203748d0558",
   "metadata": {},
   "outputs": [],
   "source": [
    "loss_drp = np.zeros((len(dim), len(drprate), 2)) # mean and var\n",
    "loss_mse_drp = np.zeros((len(dim), len(drprate), ))\n",
    "loss_theory = np.zeros((len(dim), len(drprate), ))\n",
    "\n",
    "for i, d in tqdm(enumerate(dim)):\n",
    "    w = wa*np.random.rand(d, 1)-wb\n",
    "    X_train, X_test, y_train, y_test = generate_data(w, sigma, ntrain, ntest)\n",
    "    what = lr_sol(X_train, y_train, lamb)\n",
    "    \n",
    "    \n",
    "    # loss_drp = np.zeros((len(drprate), ndropout))\n",
    "    # loss_mse_drp = np.zeros((len(drprate), ))\n",
    "\n",
    "    for j, drp in enumerate(drprate):\n",
    "        drp_msk = np.random.binomial(size=(d, ndropout), n=1, p=1-drp)\n",
    "        wdrp = what*drp_msk\n",
    "        \n",
    "        loss_temp = np.mean((X_test@wdrp - y_test)**2, axis=0)\n",
    "        \n",
    "        loss_drp[i, j, 0] = loss_temp.mean()\n",
    "        loss_drp[i, j, 1] = loss_temp.std()\n",
    "        \n",
    "        loss_mse_drp[i, j] = (((1-drp)*X_test@what - y_test)**2).mean()\n",
    "        loss_theory[i, j] = mse_gap(X_test, y_test, drp, lamb)\n",
    "        \n",
    "        # loss_temp = np.mean((X_test@wdrp - y_test)**2, axis=0)\n",
    "        # loss_drp[i, :] = np.mean((X_test@wdrp - y_test)**2, axis=0)\n",
    "        # loss_mse_drp[i] = (((1-drp)*X_test@what - y_test)**2).mean()"
   ]
  },
  {
   "cell_type": "code",
   "execution_count": null,
   "id": "15cfed76-2c95-4ea9-a110-ef3179e2b48b",
   "metadata": {},
   "outputs": [],
   "source": [
    "fig, ax = plt.subplots(1, 1, figsize=(7, 4))\n",
    "# colors = [['orange', 'orangered'], ['forestgreen', 'darkgreen'], ['blue', 'navy'], ['darkviolet', 'indigo']]\n",
    "colors = ['lightsteelblue', 'royalblue', 'mediumblue', 'midnightblue']\n",
    "\n",
    "for i in range(len(dim)):\n",
    "    ax.errorbar(x=np.arange(len(drprate)), y=loss_drp[i, :, 0]-loss_mse_drp[i, :], yerr=loss_drp[i, :, 1], \n",
    "                fmt='s', capsize=3, capthick=3, color=colors[i])\n",
    "    ax.scatter(np.arange(len(drprate)), loss_theory[i, :], marker='s', facecolors='none', \n",
    "               edgecolors=colors[i], s=100)\n",
    "    \n",
    "## for marker\n",
    "ax.scatter(-10, -10, marker='s', facecolors='none', edgecolors='dimgray', s=100, label='Theory')\n",
    "ax.errorbar(x=-10, y=-10, yerr=1,fmt='s', capsize=3, capthick=3, color='dimgray', label='Simulation')\n",
    "for i in range(len(dim)-1, -1, -1):\n",
    "    ax.errorbar(x=-10, y=-10, fmt='s', color=colors[i], label='Dim. = {:4d}'.format(dim[i]))\n",
    "    \n",
    "ax.set_xticks(np.arange(len(drprate)));\n",
    "ax.set_xticklabels(['{:.2f}'.format(p) for p in drprate]);\n",
    "ax.set_xlabel('Dropout Rates')\n",
    "ax.set_ylabel('Sum of Squared Error (SSE)');\n",
    "ax.legend(loc='best');\n",
    "\n",
    "ax.set_xlim(xmin=-0.5)\n",
    "ax.set_ylim(ymin=-1.5)\n",
    "\n",
    "plt.tight_layout()\n",
    "plt.savefig('lr-synthetic.png', format='png', dpi=300)"
   ]
  },
  {
   "cell_type": "code",
   "execution_count": null,
   "id": "d0ddd2e2-48b5-4591-b336-f4e3f14f9931",
   "metadata": {},
   "outputs": [],
   "source": []
  }
 ],
 "metadata": {
  "interpreter": {
   "hash": "ec86c5fe1f2ebb26815e26a936152376fc5f953a03d06ba52cbf87f0415be32f"
  },
  "kernelspec": {
   "display_name": "Python pytorch",
   "language": "python",
   "name": "pytorch"
  },
  "language_info": {
   "codemirror_mode": {
    "name": "ipython",
    "version": 3
   },
   "file_extension": ".py",
   "mimetype": "text/x-python",
   "name": "python",
   "nbconvert_exporter": "python",
   "pygments_lexer": "ipython3",
   "version": "3.8.11"
  }
 },
 "nbformat": 4,
 "nbformat_minor": 5
}
