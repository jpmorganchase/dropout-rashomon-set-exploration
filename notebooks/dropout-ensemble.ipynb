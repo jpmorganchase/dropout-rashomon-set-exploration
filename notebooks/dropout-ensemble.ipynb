{
 "cells": [
  {
   "cell_type": "code",
   "execution_count": null,
   "id": "a6df5d88",
   "metadata": {},
   "outputs": [],
   "source": [
    "import numpy as np\n",
    "import pandas as pd\n",
    "import numpy as np\n",
    "import matplotlib.pyplot as plt\n",
    "import matplotlib\n",
    "import matplotlib.cm as cm\n",
    "import seaborn as sns\n",
    "import pickle\n",
    "from tqdm import tqdm\n",
    "\n",
    "import sys\n",
    "sys.path.insert(0, '../')\n",
    "from utils.evaluation import read_base_results, read_drp_results, read_eval_results\n",
    "\n",
    "sns.set()\n",
    "sns.set_style('whitegrid')\n",
    "%matplotlib inline\n",
    "\n",
    "import warnings\n",
    "warnings.filterwarnings('ignore')\n",
    "import os\n",
    "os.environ['TF_CPP_MIN_LOG_LEVEL'] = '3' \n",
    "\n",
    "%load_ext autoreload\n",
    "%autoreload 2"
   ]
  },
  {
   "cell_type": "markdown",
   "id": "f5daac9a-5e0f-4212-9877-7edf552c6e7d",
   "metadata": {},
   "source": [
    "## Adult Income Dataset"
   ]
  },
  {
   "cell_type": "code",
   "execution_count": null,
   "id": "f37a2032-a996-425a-bb0b-0484cdc47cb6",
   "metadata": {},
   "outputs": [],
   "source": [
    "datasetname='adult'"
   ]
  },
  {
   "cell_type": "markdown",
   "id": "6c5eb919-f52d-44fb-b35c-20fe018a6b64",
   "metadata": {},
   "source": [
    "#### Ensemble "
   ]
  },
  {
   "cell_type": "code",
   "execution_count": null,
   "id": "083d471e-6daa-4bc1-8929-435279278fb2",
   "metadata": {},
   "outputs": [],
   "source": [
    "file_path = '../results/'\n",
    "base_file = datasetname+'-base-100-1-1000'\n",
    "bdrp_ensemble_file = datasetname+'-bernoulli-dropout-10000-0.2-1,2,5,10,20,50,100-100-ensemble.npz'\n",
    "gdrp_ensemble_file = datasetname+'-gaussian-dropout-10000-0.6-1,2,5,10,20,50,100-100-ensemble.npz'\n",
    "\n",
    "base_result = read_base_results(file_path+base_file)\n",
    "bdrp_ensemble_result = np.load(file_path+bdrp_ensemble_file)\n",
    "gdrp_ensemble_result = np.load(file_path+gdrp_ensemble_file)"
   ]
  },
  {
   "cell_type": "code",
   "execution_count": null,
   "id": "b7759d7d-57ec-4f59-b1a8-d16b3fa1f857",
   "metadata": {},
   "outputs": [],
   "source": [
    "ensemble_size = bdrp_ensemble_result['ensemble_size']"
   ]
  },
  {
   "cell_type": "code",
   "execution_count": null,
   "id": "06bce5c3-fcfc-4f27-8836-75d291d56763",
   "metadata": {},
   "outputs": [],
   "source": [
    "fig, ax = plt.subplots(2, 2, figsize=(7, 4), gridspec_kw={'height_ratios': [3.5,1]})\n",
    "colors = ['darkgoldenrod', 'darkorange', 'tomato', 'navy', 'royalblue', 'lightsteelblue']\n",
    "\n",
    "q = [0.5, 0.99, 0.5, 0.9]\n",
    "ax[0, 0].plot(ensemble_size, np.quantile(bdrp_ensemble_result['vpr'], q[0], axis=1), label='VPR', color=colors[0])\n",
    "ax[0, 0].plot(ensemble_size, np.quantile(bdrp_ensemble_result['score_var'], q[1], axis=1), label='Score Var.', color=colors[1])\n",
    "ax[0, 0].plot(ensemble_size, 2**np.quantile(bdrp_ensemble_result['rc'], q[2], axis=1), label='RC', color=colors[2])\n",
    "ax[0, 0].plot(ensemble_size, np.quantile(bdrp_ensemble_result['disa_hat'], q[3], axis=1), label='Disagreement', color=colors[3])\n",
    "ax[0, 0].plot(ensemble_size, bdrp_ensemble_result['amb'], label='Ambiguity', color=colors[4])\n",
    "ax[0, 0].plot(ensemble_size, bdrp_ensemble_result['disc'], label='Discrepancy', color=colors[5])\n",
    "ax[0, 0].set_xticks(ensemble_size);\n",
    "ax[0, 0].set_title(r'Bernoulli Dropout with $p=0.2$');\n",
    "ax[0, 0].set_xscale('log')\n",
    "# ax[0, 0].legend(loc='upper right');\n",
    "ax[0, 0].set_ylabel('Predictive Multiplicity' '\\n' 'Metrics')\n",
    "\n",
    "ax[1, 0].errorbar(x=ensemble_size, y=bdrp_ensemble_result['ensemble_acc'].mean(axis=1), yerr=bdrp_ensemble_result['ensemble_acc'].std(axis=1),\n",
    "                  linestyle='-', markersize=3, fmt='s', capsize=1, capthick=1, c='maroon')\n",
    "ax[1, 0].set_xscale('log')\n",
    "ax[1, 0].set_xlabel('Ensemble Size (Log)')\n",
    "ax[1, 0].set_ylabel('Ensemble' '\\n' 'Acc.')\n",
    "\n",
    "ax[0, 1].plot(ensemble_size, np.quantile(gdrp_ensemble_result['vpr'], q[0], axis=1), label='VPR', color=colors[0])\n",
    "ax[0, 1].plot(ensemble_size, np.quantile(gdrp_ensemble_result['score_var'], q[1], axis=1), label='Score Var.', color=colors[1])\n",
    "ax[0, 1].plot(ensemble_size, 2**np.quantile(gdrp_ensemble_result['rc'], q[2], axis=1), label='RC', color=colors[2])\n",
    "ax[0, 1].plot(ensemble_size, np.quantile(gdrp_ensemble_result['disa_hat'], q[3], axis=1), label='Disa.', color=colors[3])\n",
    "ax[0, 1].plot(ensemble_size, gdrp_ensemble_result['amb'], label='Amb.', color=colors[4])\n",
    "ax[0, 1].plot(ensemble_size, gdrp_ensemble_result['disc'], label='Disc.', color=colors[5])\n",
    "ax[0, 1].set_xticks(ensemble_size);\n",
    "ax[0, 1].set_title(r'Gaussian Dropout with $\\alpha=0.6$');\n",
    "ax[0, 1].set_xscale('log')\n",
    "ax[0, 1].legend(loc='center right', ncol=2, fontsize=9);\n",
    "\n",
    "ax[1, 1].errorbar(x=ensemble_size, y=gdrp_ensemble_result['ensemble_acc'].mean(axis=1), yerr=bdrp_ensemble_result['ensemble_acc'].std(axis=1),\n",
    "                  linestyle='-', markersize=3, fmt='s', capsize=1, capthick=1, c='maroon')\n",
    "ax[1, 1].set_xscale('log')\n",
    "ax[1, 1].set_xlabel('Ensemble Size (Log)')\n",
    "\n",
    "plt.tight_layout()\n",
    "# plt.savefig('adult-ensemble.png', format='png', dpi=300)"
   ]
  },
  {
   "cell_type": "markdown",
   "id": "3b8c3294-e49d-4ae4-8a75-1e5c27660777",
   "metadata": {},
   "source": [
    "#### Model Selection"
   ]
  },
  {
   "cell_type": "markdown",
   "id": "4b9d2716-25c3-4705-aef6-51951818aecf",
   "metadata": {},
   "source": [
    "##### Bernoulli"
   ]
  },
  {
   "cell_type": "code",
   "execution_count": null,
   "id": "bb035884-5d6d-4f93-88c7-a9456d7960ba",
   "metadata": {},
   "outputs": [],
   "source": [
    "file_path = '../results/'\n",
    "bdrp_ms_file = datasetname+ '-10-100-bernoulli-model-selection-eval.npz' \n",
    "bdrp_ms_result = np.load(file_path+bdrp_ms_file)"
   ]
  },
  {
   "cell_type": "code",
   "execution_count": null,
   "id": "29f12708-8f02-4b11-b4dd-e204aaeffcae",
   "metadata": {},
   "outputs": [],
   "source": [
    "bdrp_ms_result['drp_list']"
   ]
  },
  {
   "cell_type": "code",
   "execution_count": null,
   "id": "d0a79a7d-e1a1-4200-bad0-dc3006ffc3cf",
   "metadata": {},
   "outputs": [],
   "source": [
    "nmodel = bdrp_ms_result['vpr'].shape[0]\n",
    "drp_idx = 1\n",
    "print(bdrp_ms_result['drp_list'][drp_idx])"
   ]
  },
  {
   "cell_type": "code",
   "execution_count": null,
   "id": "10aa8ad3-800b-4a23-b291-0fdae55fb8a4",
   "metadata": {},
   "outputs": [],
   "source": [
    "fig, ax = plt.subplots(1, 6, figsize=(7, 4))\n",
    "\n",
    "q = [0.5, 0.99, 0.5, 0.9]\n",
    "xlabels = ['VPR', 'Score Var.', 'RC', 'Disa.', 'Amb.', 'Disc.']\n",
    "model_idx = [0, 4, 5, 6, 7]\n",
    "\n",
    "colors = cm.plasma(np.linspace(0, 1, len(model_idx)))\n",
    "\n",
    "for i, idx in enumerate(model_idx):\n",
    "    ax[0].scatter(1, np.quantile(bdrp_ms_result['vpr'][idx, drp_idx, :], q[0], axis=0), color=colors[i], label='Model {:2d}'.format(i+1))\n",
    "    ax[1].scatter(1, np.quantile(bdrp_ms_result['score_var'][idx, drp_idx, :], q[1], axis=0), color=colors[i], label='Model {:2d}'.format(i+1))\n",
    "    ax[2].scatter(1, 2**np.quantile(bdrp_ms_result['rc'][idx, drp_idx, :], q[2], axis=0), color=colors[i], label='Model {:2d}'.format(i+1))\n",
    "    ax[3].scatter(1, np.quantile(bdrp_ms_result['disa_hat'][idx, drp_idx, :], q[3], axis=0), color=colors[i], label='Model {:2d}'.format(i+1))\n",
    "    ax[4].scatter(1, bdrp_ms_result['amb'][idx, drp_idx], color=colors[i], label='Model {:2d}'.format(i+1))\n",
    "    ax[5].scatter(1, bdrp_ms_result['disc'][idx, drp_idx], color=colors[i], label='Model {:2d}'.format(i+1))\n",
    "\n",
    "ax[5].legend(loc='center right', bbox_to_anchor=(1.0, 0.5))\n",
    "\n",
    "for i in range(6): ax[i].grid(False)\n",
    "for i in range(6): ax[i].set_xticks([])\n",
    "for i in range(6): ax[i].set_xlabel(xlabels[i])\n",
    "\n",
    "plt.tight_layout()\n",
    "# plt.savefig('adult-ms-b.png', format='png', dpi=300, bbox_inches='tight')"
   ]
  },
  {
   "cell_type": "markdown",
   "id": "07fdf77f-9b4a-49c4-b5de-5d18899fd326",
   "metadata": {},
   "source": [
    "##### Gaussian"
   ]
  },
  {
   "cell_type": "code",
   "execution_count": null,
   "id": "e5265c9f-1085-4a2d-8f27-e3e8d815bc4d",
   "metadata": {},
   "outputs": [],
   "source": [
    "file_path = '../results/'\n",
    "gdrp_ms_file = datasetname+ '-10-100-gaussian-model-selection-eval.npz' \n",
    "gdrp_ms_result = np.load(file_path+gdrp_ms_file)"
   ]
  },
  {
   "cell_type": "code",
   "execution_count": null,
   "id": "a27d13a7-2e80-449b-a48a-8b4263a59130",
   "metadata": {},
   "outputs": [],
   "source": [
    "gdrp_ms_result['drp_list']"
   ]
  },
  {
   "cell_type": "code",
   "execution_count": null,
   "id": "19010dc2-c9e2-4f01-bb1a-4505e2826b2d",
   "metadata": {},
   "outputs": [],
   "source": [
    "nmodel = gdrp_ms_result['vpr'].shape[0]\n",
    "drp_idx = 20\n",
    "print(gdrp_ms_result['drp_list'][drp_idx])"
   ]
  },
  {
   "cell_type": "code",
   "execution_count": null,
   "id": "e88b905b-cb1a-423f-ba7e-2d1d2d3c4681",
   "metadata": {},
   "outputs": [],
   "source": [
    "fig, ax = plt.subplots(1, 6, figsize=(7, 4))\n",
    "\n",
    "q = [0.5, 0.99, 0.9, 0.9]\n",
    "xlabels = ['VPR', 'Score Var.', 'RC', 'Disa.', 'Amb.', 'Disc.']\n",
    "model_idx = [0, 1, 2, 3, 4, 5, 6, 7, 8, 9]\n",
    "\n",
    "colors = cm.plasma(np.linspace(0, 1, len(model_idx)))\n",
    "\n",
    "for i, idx in enumerate(model_idx):\n",
    "    ax[0].scatter(1, np.quantile(gdrp_ms_result['vpr'][idx, drp_idx, :], q[0], axis=0), color=colors[i])\n",
    "    ax[1].scatter(1, np.quantile(gdrp_ms_result['score_var'][idx, drp_idx, :], q[1], axis=0), color=colors[i])\n",
    "    ax[2].scatter(1, 2**np.quantile(gdrp_ms_result['rc'][idx, drp_idx, :], q[2], axis=0), color=colors[i])\n",
    "    ax[3].scatter(1, np.quantile(gdrp_ms_result['disa_hat'][idx, drp_idx, :], q[3], axis=0), color=colors[i])\n",
    "    ax[4].scatter(1, gdrp_ms_result['amb'][idx, drp_idx], color=colors[i])\n",
    "    ax[5].scatter(1, gdrp_ms_result['disc'][idx, drp_idx], color=colors[i], label='Model {:2d}'.format(i+1))\n",
    "\n",
    "\n",
    "\n",
    "for i in range(6): ax[i].grid(False)\n",
    "for i in range(6): ax[i].set_xticks([])\n",
    "for i in range(6): ax[i].set_xlabel(xlabels[i])\n",
    "\n",
    "\n",
    "ax[5].legend(loc='center right', bbox_to_anchor=(1.0, 0.5))\n",
    "\n",
    "plt.tight_layout()\n",
    "# plt.savefig('adult-ms-g.png', format='png', dpi=300, bbox_inches='tight')"
   ]
  },
  {
   "cell_type": "code",
   "execution_count": null,
   "id": "afaf2a07-5be7-4f02-ad8f-9d6132d36e28",
   "metadata": {},
   "outputs": [],
   "source": []
  }
 ],
 "metadata": {
  "interpreter": {
   "hash": "ec86c5fe1f2ebb26815e26a936152376fc5f953a03d06ba52cbf87f0415be32f"
  },
  "kernelspec": {
   "display_name": "Python pytorch",
   "language": "python",
   "name": "pytorch"
  },
  "language_info": {
   "codemirror_mode": {
    "name": "ipython",
    "version": 3
   },
   "file_extension": ".py",
   "mimetype": "text/x-python",
   "name": "python",
   "nbconvert_exporter": "python",
   "pygments_lexer": "ipython3",
   "version": "3.8.11"
  }
 },
 "nbformat": 4,
 "nbformat_minor": 5
}
