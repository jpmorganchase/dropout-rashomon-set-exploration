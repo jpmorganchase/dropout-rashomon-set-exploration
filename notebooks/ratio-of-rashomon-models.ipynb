{
 "cells": [
  {
   "cell_type": "code",
   "execution_count": null,
   "id": "a6df5d88",
   "metadata": {},
   "outputs": [],
   "source": [
    "import numpy as np\n",
    "import pandas as pd\n",
    "import numpy as np\n",
    "import matplotlib.pyplot as plt\n",
    "import matplotlib\n",
    "import matplotlib.cm as cm\n",
    "import seaborn as sns\n",
    "import pickle\n",
    "from tqdm import tqdm\n",
    "\n",
    "import sys\n",
    "sys.path.insert(0, '../')\n",
    "from utils.evaluation import read_base_results, read_drp_results, read_eval_results\n",
    "\n",
    "sns.set()\n",
    "sns.set_style('whitegrid')\n",
    "%matplotlib inline\n",
    "\n",
    "import warnings\n",
    "warnings.filterwarnings('ignore')\n",
    "import os\n",
    "os.environ['TF_CPP_MIN_LOG_LEVEL'] = '3' \n",
    "\n",
    "%load_ext autoreload\n",
    "%autoreload 2"
   ]
  },
  {
   "cell_type": "code",
   "execution_count": null,
   "id": "41dee5f6-5a22-4208-8ab3-dfea7b10e612",
   "metadata": {},
   "outputs": [],
   "source": [
    "def find_rashomon_model_ratio(eps_list, base_result, sampling_result, bdrp_result, gdrp_result):\n",
    "    sampling_loss = sampling_result['all_sampling_test_loss']\n",
    "    nsampling = sampling_result['all_sampling_test_loss'].shape[0]\n",
    "    \n",
    "    for i, eps in enumerate(eps_list):\n",
    "        nsampling_r = np.sum(sampling_loss<=base_result['test_loss']+eps) / nsampling\n",
    "\n",
    "        eps_mean = (bdrp_result['drp_test_loss']-base_result['test_loss']).mean(axis=1)\n",
    "        idx = np.arange(len(eps_mean))[eps_mean <= eps][-1]\n",
    "        n_bdrp = (idx+1)*bdrp_result['drp_test_loss'].shape[1]\n",
    "        n_bdrp_r = np.sum(bdrp_result['drp_test_loss'][:idx, :] <= base_result['test_loss']+eps) / n_bdrp\n",
    "        \n",
    "        eps_mean = (gdrp_result['drp_test_loss']-base_result['test_loss']).mean(axis=1)\n",
    "        idx = np.arange(len(eps_mean))[eps_mean <= eps][-1]\n",
    "        n_gdrp = (idx+1)*gdrp_result['drp_test_loss'].shape[1]\n",
    "        n_gdrp_r = np.sum(gdrp_result['drp_test_loss'][:idx, :] <= base_result['test_loss']+eps) / n_gdrp\n",
    "\n",
    "        print('& ${:.3f}$ & ${:2.2f}$\\% & ${:2.2f}$\\% & ${:2.2f}$\\% \\\\\\\\'.format(eps, nsampling_r*100, n_bdrp_r*100, n_gdrp_r*100))\n",
    "\n",
    "    return "
   ]
  },
  {
   "cell_type": "code",
   "execution_count": null,
   "id": "ab7dcb27-3626-4a32-bc3a-319b0d1d405e",
   "metadata": {},
   "outputs": [],
   "source": [
    "eps_list = np.linspace(0.001, 0.004, 4)"
   ]
  },
  {
   "cell_type": "markdown",
   "id": "83a5277e-6b16-41be-9128-291a3b1e3118",
   "metadata": {},
   "source": [
    "## Credit Approval Dataset"
   ]
  },
  {
   "cell_type": "code",
   "execution_count": null,
   "id": "9aeddc51-f851-4a04-a7a1-3782f3ae034f",
   "metadata": {},
   "outputs": [],
   "source": [
    "datasetname='credit-approval'\n",
    "file_path = '../results/'"
   ]
  },
  {
   "cell_type": "code",
   "execution_count": null,
   "id": "b7f74977-3653-4847-b142-15ca331863cb",
   "metadata": {},
   "outputs": [],
   "source": [
    "base_file = datasetname+'-base-100-1-1000'\n",
    "sampling_filename = datasetname+'-sampling-100-20,25,30,35,40,45,50,55-eval'\n",
    "bdrp_train_file = datasetname+'-bernoulli-dropout-100-1-1000-100-0.2'\n",
    "gdrp_train_file = datasetname+'-gaussian-dropout-100-1-1000-100-0.6'"
   ]
  },
  {
   "cell_type": "code",
   "execution_count": null,
   "id": "ca8aea68-2b3d-4c1e-b172-79f90fbe469a",
   "metadata": {},
   "outputs": [],
   "source": [
    "base_result = read_base_results(file_path+base_file)\n",
    "sampling_result = np.load(file_path+sampling_filename+'.npz')\n",
    "bdrp_result = read_drp_results(file_path+bdrp_train_file)\n",
    "gdrp_result = read_drp_results(file_path+gdrp_train_file)"
   ]
  },
  {
   "cell_type": "code",
   "execution_count": null,
   "id": "2e006b3a-a09e-43bc-bbea-fdd0ebdcd962",
   "metadata": {},
   "outputs": [],
   "source": [
    "find_rashomon_model_ratio(eps_list, base_result, sampling_result, bdrp_result, gdrp_result)"
   ]
  },
  {
   "cell_type": "code",
   "execution_count": null,
   "id": "02a94c97-8e35-43c6-b637-eb6ed2a9ee8a",
   "metadata": {},
   "outputs": [],
   "source": []
  }
 ],
 "metadata": {
  "interpreter": {
   "hash": "ec86c5fe1f2ebb26815e26a936152376fc5f953a03d06ba52cbf87f0415be32f"
  },
  "kernelspec": {
   "display_name": "Python dropout-rashomon",
   "language": "python",
   "name": "dropout-rashomon"
  },
  "language_info": {
   "codemirror_mode": {
    "name": "ipython",
    "version": 3
   },
   "file_extension": ".py",
   "mimetype": "text/x-python",
   "name": "python",
   "nbconvert_exporter": "python",
   "pygments_lexer": "ipython3",
   "version": "3.8.13"
  }
 },
 "nbformat": 4,
 "nbformat_minor": 5
}
