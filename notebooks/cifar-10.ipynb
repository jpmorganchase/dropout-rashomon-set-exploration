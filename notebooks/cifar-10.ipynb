{
 "cells": [
  {
   "cell_type": "code",
   "execution_count": null,
   "id": "a6df5d88",
   "metadata": {},
   "outputs": [],
   "source": [
    "import numpy as np\n",
    "import pandas as pd\n",
    "import matplotlib.pyplot as plt\n",
    "import matplotlib\n",
    "import matplotlib.cm as cm\n",
    "import seaborn as sns\n",
    "import pickle\n",
    "from tqdm import tqdm\n",
    "\n",
    "import sys\n",
    "sys.path.insert(0, '../')\n",
    "\n",
    "from utils.evaluation import read_base_results, read_drp_results, read_eval_results\n",
    "\n",
    "sns.set()\n",
    "sns.set_style('whitegrid')\n",
    "%matplotlib inline\n",
    "\n",
    "import warnings\n",
    "warnings.filterwarnings('ignore')\n",
    "import os\n",
    "os.environ['TF_CPP_MIN_LOG_LEVEL'] = '3' \n",
    "\n",
    "%load_ext autoreload\n",
    "%autoreload 2"
   ]
  },
  {
   "cell_type": "markdown",
   "id": "83a5277e-6b16-41be-9128-291a3b1e3118",
   "metadata": {},
   "source": [
    "## CIFAR-10"
   ]
  },
  {
   "cell_type": "code",
   "execution_count": null,
   "id": "b7f74977-3653-4847-b142-15ca331863cb",
   "metadata": {},
   "outputs": [],
   "source": [
    "file_path = '../results/'\n",
    "\n",
    "datasetname='cifar10-vgg16'\n",
    "nepoch = 7\n",
    "base_file = datasetname + '-base-' + str(nepoch)\n",
    "bdrp_train_file = datasetname + '-bernoulli-dropout-50-0.008'\n",
    "gdrp_train_file = datasetname + '-gaussian-dropout-50-0.1'"
   ]
  },
  {
   "cell_type": "code",
   "execution_count": null,
   "id": "ca8aea68-2b3d-4c1e-b172-79f90fbe469a",
   "metadata": {},
   "outputs": [],
   "source": [
    "base_result = read_base_results(file_path+base_file)\n",
    "bdrp_train_result = read_drp_results(file_path+bdrp_train_file)\n",
    "gdrp_train_result = read_drp_results(file_path+gdrp_train_file)"
   ]
  },
  {
   "cell_type": "code",
   "execution_count": null,
   "id": "143f7b9f-3aae-4bda-83a9-b3b9b8415065",
   "metadata": {
    "tags": []
   },
   "outputs": [],
   "source": [
    "fig, ax = plt.subplots(2, 1, figsize=(6, 4))\n",
    "\n",
    "# Bernoulli\n",
    "sc = ax[0].scatter((bdrp_train_result['drp_test_loss']-base_result['test_loss']).mean(axis=1), bdrp_train_result['drp_test_acc'].mean(axis=1),s=0,c=bdrp_train_result['drp_list'], cmap='Blues')\n",
    "clb = plt.colorbar(sc, ax=ax[0])\n",
    "clb.set_label(r'Bernoulli rate $p$', rotation=270, labelpad=15)\n",
    "\n",
    "norm = matplotlib.colors.Normalize(vmin=min(bdrp_train_result['drp_list']), vmax=max(bdrp_train_result['drp_list']), clip=True)\n",
    "mapper = cm.ScalarMappable(norm=norm, cmap='Blues')\n",
    "colors = np.array([(mapper.to_rgba(drp)) for drp in bdrp_train_result['drp_list']])\n",
    "\n",
    "for i in range(len(bdrp_train_result['drp_list'])):\n",
    "    temp = bdrp_train_result['drp_test_loss'][i, :]-base_result['test_loss']\n",
    "    temp2 = bdrp_train_result['drp_test_acc'][i, :]\n",
    "    ax[0].errorbar(x=temp.mean(), y=temp2.mean(), xerr=temp.std(), yerr=temp2.std(), fmt='s', capsize=3, capthick=3, c=colors[i])\n",
    "\n",
    "ax[0].plot(0, base_result['test_acc'], marker='*', color='black', markersize='6', linestyle='', label='Base Model', zorder=10)\n",
    "ax[0].set_ylabel('Accuracy')    \n",
    "\n",
    "# Gaussian\n",
    "sc = ax[1].scatter((gdrp_train_result['drp_test_loss']-base_result['test_loss']).mean(axis=1), gdrp_train_result['drp_test_acc'].mean(axis=1),s=0,c=gdrp_train_result['drp_list'], cmap='Reds')\n",
    "clb = plt.colorbar(sc, ax=ax[1])\n",
    "clb.set_label(r'Gaussian variance $\\alpha$', rotation=270, labelpad=15)\n",
    "\n",
    "norm = matplotlib.colors.Normalize(vmin=min(gdrp_train_result['drp_list']), vmax=max(gdrp_train_result['drp_list']), clip=True)\n",
    "mapper = cm.ScalarMappable(norm=norm, cmap='Reds')\n",
    "colors = np.array([(mapper.to_rgba(drp)) for drp in gdrp_train_result['drp_list']])\n",
    "\n",
    "for i in range(len(gdrp_train_result['drp_list'])):\n",
    "    temp = gdrp_train_result['drp_test_loss'][i, :]-base_result['test_loss']\n",
    "    temp2 = gdrp_train_result['drp_test_acc'][i, :]\n",
    "    ax[1].errorbar(x=temp.mean(), y=temp2.mean(), xerr=temp.std(), yerr=temp2.std(), fmt='s', capsize=3, capthick=3, c=colors[i])\n",
    "    \n",
    "ax[1].plot(0, base_result['test_acc'], marker='*', color='black', markersize='6', linestyle='', label='Base Model', zorder=10)\n",
    "    \n",
    "ax[1].set_xlabel(r'Loss difference $\\varepsilon$')\n",
    "ax[1].set_ylabel('Accuracy');\n",
    "ax[1].legend(loc='lower left')\n",
    "\n",
    "plt.tight_layout()\n",
    "# plt.savefig(datasetname+'-bern-gaussian-loss-vs-acc-vs-parameter.png', format='png', dpi=300)"
   ]
  },
  {
   "cell_type": "markdown",
   "id": "8b8d14e5-1748-4f81-b556-a7b8907d9834",
   "metadata": {},
   "source": [
    "#### Metric Comparison"
   ]
  },
  {
   "cell_type": "code",
   "execution_count": null,
   "id": "6738ca11-1cad-4fa6-9130-8ef491909a5d",
   "metadata": {},
   "outputs": [],
   "source": [
    "def read_eval_results(file):\n",
    "    results = np.load(file+'.npz')\n",
    "    eps_list = results['eps_list']\n",
    "    vpr = results['vpr']\n",
    "    score_var = results['score_var']\n",
    "    rc = results['rc']\n",
    "    amb = results['amb']\n",
    "    disc = results['disc']\n",
    "    disa_hat = results['disa_hat']\n",
    "\n",
    "    vpr=np.sort(vpr, axis=1)\n",
    "    score_var=np.sort(score_var, axis=1)\n",
    "    rc=np.sort(2**rc, axis=1)\n",
    "    disa_hat=np.sort(disa_hat, axis=1)\n",
    "\n",
    "    output = {\n",
    "        'eps_list': eps_list,\n",
    "        'vpr': vpr,\n",
    "        'score_var': score_var,\n",
    "        'rc': rc,\n",
    "        'amb': amb,\n",
    "        'disc': disc,\n",
    "        'disa_hat': disa_hat\n",
    "    }\n",
    "\n",
    "    return output"
   ]
  },
  {
   "cell_type": "code",
   "execution_count": null,
   "id": "a38099c4-00ee-4126-afe0-eae41ad4b656",
   "metadata": {},
   "outputs": [],
   "source": [
    "datasetname='cifar10-vgg16'\n",
    "file_path = '../results/'\n",
    "sampling_filename = datasetname+'-sampling-20-5,6,7,8,9-eval'\n",
    "bern_filename = datasetname+'-bernoulli-dropout-50-0.008-eval'\n",
    "gauss_filename = datasetname+'-gaussian-dropout-50-0.1-eval'"
   ]
  },
  {
   "cell_type": "code",
   "execution_count": null,
   "id": "cd16a052-edb7-4192-8352-48e1f0cbc794",
   "metadata": {},
   "outputs": [],
   "source": [
    "sampling_result = read_eval_results(file_path+sampling_filename)\n",
    "bdrp_result = read_eval_results(file_path+bern_filename)\n",
    "gdrp_result = read_eval_results(file_path+gauss_filename)"
   ]
  },
  {
   "cell_type": "code",
   "execution_count": null,
   "id": "ab484577-522f-45b1-9f73-9833f71970ca",
   "metadata": {},
   "outputs": [],
   "source": [
    "## \n",
    "fig, ax = plt.subplots(4, 4, figsize=(14, 7), gridspec_kw={'height_ratios': [1,2,2,2]})\n",
    "plt.subplots_adjust(wspace=0.3, hspace=0.3)\n",
    "n = bdrp_result['vpr'].shape[1]\n",
    "cum = np.arange(1, n+1)/n\n",
    "\n",
    "colors = cm.ocean(np.linspace(0, 1, len(bdrp_result['eps_list'])+1))\n",
    "\n",
    "for i, eps in enumerate(bdrp_result['eps_list']):\n",
    "    ## make them cdf\n",
    "    ax[1, 0].plot(sampling_result['vpr'][i, :], cum, color=colors[i])\n",
    "    ax[1, 1].plot(sampling_result['score_var'][i, :], cum, color=colors[i])\n",
    "    ax[1, 2].plot(sampling_result['rc'][i, :], cum, color=colors[i])\n",
    "    ax[1, 3].plot(sampling_result['disa_hat'][i, :], cum, color=colors[i], label=r'$\\epsilon$ = {:.3f}'.format(eps))\n",
    "    \n",
    "    ax[2, 0].plot(bdrp_result['vpr'][i, :], cum, color=colors[i])\n",
    "    ax[2, 1].plot(bdrp_result['score_var'][i, :], cum, color=colors[i])\n",
    "    ax[2, 2].plot(bdrp_result['rc'][i, :], cum, color=colors[i])\n",
    "    ax[2, 3].plot(bdrp_result['disa_hat'][i, :], cum, color=colors[i])\n",
    "    \n",
    "    ax[3, 0].plot(gdrp_result['vpr'][i, :], cum, color=colors[i])\n",
    "    ax[3, 1].plot(gdrp_result['score_var'][i, :], cum, color=colors[i])\n",
    "    ax[3, 2].plot(gdrp_result['rc'][i, :], cum, color=colors[i])\n",
    "    ax[3, 3].plot(gdrp_result['disa_hat'][i, :], cum, color=colors[i])\n",
    "    \n",
    "ax[3, 0].set_xlabel('Viable Prediction Range')\n",
    "ax[3, 1].set_xlabel('Score Variance')\n",
    "ax[3, 2].set_xlabel('Rashomon Capacity')\n",
    "ax[3, 3].set_xlabel('Disagreement')\n",
    "\n",
    "ax[1, 0].set_ylabel(r'${\\bf Re-training}$' '\\n' 'CDF of Samples')\n",
    "ax[2, 0].set_ylabel(r'${\\bf Bernoulli}$' '\\n' 'CDF of Samples')\n",
    "ax[3, 0].set_ylabel(r'${\\bf Gaussian}$' '\\n' 'CDF of Samples')\n",
    "# ax[3].set_ylabel('CDF of Samples')\n",
    "ax[1, 3].legend(bbox_to_anchor=(0.5, 1.8), ncol=6, title='Rashomon Parameter')\n",
    "\n",
    "ax[0, 0].axis('off');\n",
    "ax[0, 1].axis('off');\n",
    "ax[0, 2].axis('off');\n",
    "ax[0, 3].axis('off');\n",
    "\n",
    "plt.tight_layout()\n",
    "# plt.savefig(datasetname+'-sampling-bern-gaussian-scores.png', format='png', dpi=300, bbox_inches='tight')"
   ]
  },
  {
   "cell_type": "code",
   "execution_count": null,
   "id": "905e65eb-10c6-4072-a9c3-7f2fefa0433a",
   "metadata": {},
   "outputs": [],
   "source": [
    "fig, ax = plt.subplots(1, 2, figsize=(7, 2.5))\n",
    "colors = ['maroon', 'olive', 'orange']\n",
    "ms = 3\n",
    "\n",
    "ax[0].plot(sampling_result['eps_list'], sampling_result['amb'], markersize=ms, marker='o', color=colors[0])\n",
    "ax[0].plot(bdrp_result['eps_list'], bdrp_result['amb'], markersize=ms, marker='s', color=colors[1])\n",
    "ax[0].plot(gdrp_result['eps_list'], gdrp_result['amb'], markersize=ms, marker='^', color=colors[2])\n",
    "ax[0].set_xlabel(r'Rashomon Parameter $\\epsilon$')\n",
    "ax[0].set_ylabel('Ambiguity')\n",
    "\n",
    "ax[1].plot(sampling_result['eps_list'], sampling_result['disc'], label='Re-training', markersize=ms, marker='o', color=colors[0])\n",
    "ax[1].plot(bdrp_result['eps_list'], bdrp_result['disc'], label='Bernoulli', markersize=ms, marker='s', color=colors[1])\n",
    "ax[1].plot(gdrp_result['eps_list'], gdrp_result['disc'], label='Gaussian', markersize=ms, marker='^', color=colors[2])\n",
    "ax[1].set_xlabel(r'Rashomon Parameter $\\epsilon$')\n",
    "ax[1].set_ylabel('Discrepancy');\n",
    "ax[1].legend(loc='center right')\n",
    "\n",
    "plt.tight_layout()\n",
    "# plt.savefig(datasetname+'-bern-gaussian-decision-based.png', format='png', dpi=300)"
   ]
  },
  {
   "cell_type": "code",
   "execution_count": null,
   "id": "94c18054-828c-49f5-93b3-88f23f00b58a",
   "metadata": {},
   "outputs": [],
   "source": []
  },
  {
   "cell_type": "code",
   "execution_count": null,
   "id": "ba10b92a-3aed-4334-bfd4-bf3381cd2426",
   "metadata": {},
   "outputs": [],
   "source": []
  }
 ],
 "metadata": {
  "interpreter": {
   "hash": "ec86c5fe1f2ebb26815e26a936152376fc5f953a03d06ba52cbf87f0415be32f"
  },
  "kernelspec": {
   "display_name": "Python rashomon",
   "language": "python",
   "name": "dropout-rashomon"
  },
  "language_info": {
   "codemirror_mode": {
    "name": "ipython",
    "version": 3
   },
   "file_extension": ".py",
   "mimetype": "text/x-python",
   "name": "python",
   "nbconvert_exporter": "python",
   "pygments_lexer": "ipython3",
   "version": "3.8.11"
  }
 },
 "nbformat": 4,
 "nbformat_minor": 5
}
